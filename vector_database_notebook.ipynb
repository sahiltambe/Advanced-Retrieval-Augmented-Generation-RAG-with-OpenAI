{
 "cells": [
  {
   "cell_type": "code",
   "execution_count": null,
   "metadata": {},
   "outputs": [],
   "source": [
    "from typing import List\n",
    "import nest_asyncio\n",
    "import logging\n",
    "import os\n",
    "import streamlit as st\n",
    "\n",
    "from phi.assistant import Assistant\n",
    "from phi.document import Document\n",
    "from phi.document.reader.pdf import PDFReader\n",
    "\n",
    "from phi.knowledge import AssistantKnowledge\n",
    "from phi.tools.duckduckgo import DuckDuckGo\n",
    "from langchain_community.vectorstores import FAISS\n",
    "from langchain.llms import GooglePalm\n",
    "from langchain_community.embeddings import HuggingFaceInstructEmbeddings\n",
    "from langchain_community.document_loaders import PyPDFLoader\n",
    "\n",
    "# Set Google API key from environment variables\n",
    "os.environ['GOOGLE_API_KEY'] = \"GOOGLE_API_KEY\"\n",
    "\n",
    "# Create Google Palm LLM model\n",
    "llm = GooglePalm(temperature=0.5)\n",
    "\n",
    "# Initialize instructor embeddings using the Hugging Face model\n",
    "instructor_embeddings = HuggingFaceInstructEmbeddings(model_name=\"hkunlp/instructor-large\")\n",
    "vectordb_file_path = \"faiss_vector_database\"\n",
    "\n",
    "logger = logging.getLogger(__name__)\n",
    "\n",
    "# Function to create vector database with FAISS\n",
    "def create_vector_db(file_path: str):\n",
    "    loader = PyPDFLoader(file_path)\n",
    "    data = loader.load()\n",
    "    vectordb = FAISS.from_documents(documents=data, embedding=instructor_embeddings)\n",
    "    vectordb.save_local(vectordb_file_path)\n",
    "    return vectordb\n",
    "\n",
    "# Function to load the vector database\n",
    "def load_vector_db():\n",
    "    if not os.path.exists(vectordb_file_path):\n",
    "        raise FileNotFoundError(f\"FAISS vector database file '{vectordb_file_path}' does not exist.\")\n",
    "    return FAISS.load_local(vectordb_file_path, instructor_embeddings)\n",
    "\n",
    "# Function to add a document to the knowledge base\n",
    "def add_document_to_kb(file_path: str):\n",
    "    vectordb = create_vector_db(file_path)\n",
    "    logger.info(f\"Document '{file_path}' added to the knowledge base.\")\n",
    "\n",
    "\n",
    "\n",
    "if __name__ == \"__main__\":\n",
    "    nest_asyncio.apply()\n",
    "    sample_pdf_path = \"file.pdf\"\n",
    "    add_document_to_kb(sample_pdf_path)\n"
   ]
  }
 ],
 "metadata": {
  "kernelspec": {
   "display_name": "Python 3",
   "language": "python",
   "name": "python3"
  },
  "language_info": {
   "codemirror_mode": {
    "name": "ipython",
    "version": 3
   },
   "file_extension": ".py",
   "mimetype": "text/x-python",
   "name": "python",
   "nbconvert_exporter": "python",
   "pygments_lexer": "ipython3",
   "version": "3.10.0"
  }
 },
 "nbformat": 4,
 "nbformat_minor": 2
}
